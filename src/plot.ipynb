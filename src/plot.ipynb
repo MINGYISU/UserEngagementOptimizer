{
 "cells": [
  {
   "cell_type": "code",
   "execution_count": null,
   "id": "a9a32b5c",
   "metadata": {},
   "outputs": [],
   "source": [
    "# Set up\n",
    "import numpy as np\n",
    "import pandas as pd\n",
    "import matplotlib.pyplot as plt\n",
    "import seaborn as sns\n",
    "\n",
    "from preprocess_data import *\n",
    "\n",
    "df = get_df()\n",
    "print('Data Size: ' + str(df.shape))\n",
    "print(df.info())\n",
    "print(df.describe())"
   ]
  },
  {
   "cell_type": "code",
   "execution_count": null,
   "id": "6d7bc67f",
   "metadata": {},
   "outputs": [],
   "source": [
    "def combined_plot(df: pd.DataFrame, columns, func):\n",
    "    nrows, ncols = 3, 2\n",
    "    fig, axes = plt.subplots(nrows=nrows, ncols=ncols, figsize=(20, 16))\n",
    "    axes = axes.flatten()\n",
    "\n",
    "    # Clean out the extra axes\n",
    "    if len(axes) > len(columns):\n",
    "        for i in range(len(columns), len(axes)):\n",
    "            fig.delaxes(axes[i])\n",
    "\n",
    "    for i, col in enumerate(columns):\n",
    "        # This rounds all the time to the whole hour\n",
    "        hourly_counts = df[col].dt.hour.value_counts().sort_index()\n",
    "        func(hourly_counts, ax=axes[i])\n",
    "        axes[i].set_title(f'{col} distribution')\n",
    "        axes[i].set_xlabel('Hour of a day')\n",
    "        axes[i].set_ylabel('Count')\n",
    "\n",
    "    fig.tight_layout()\n",
    "    plt.show()"
   ]
  },
  {
   "cell_type": "code",
   "execution_count": null,
   "id": "341447b0",
   "metadata": {},
   "outputs": [],
   "source": [
    "# plot time\n",
    "combined_plot(df, TIME_COLS, sns.barplot)\n",
    "combined_plot(df, TIME_COLS, sns.boxplot)"
   ]
  },
  {
   "cell_type": "code",
   "execution_count": null,
   "id": "be42efb3",
   "metadata": {},
   "outputs": [],
   "source": [
    "# plot other columns\n",
    "nrows, ncols = 3, 2\n",
    "fig, axes = plt.subplots(nrows=nrows, ncols=ncols, figsize=(20, 16))\n",
    "axes = axes.flatten()\n",
    "\n",
    "for i, col in enumerate(FEW_UNIQUE_VALS):\n",
    "    plt.sca(axes[i]) # Set the current ax\n",
    "    data = df[col]\n",
    "    val_counts = data.value_counts() # count numbers\n",
    "\n",
    "    if len(val_counts) > 3:\n",
    "        top_three = val_counts.head(3) # get three top values\n",
    "        others = pd.Series({'Others': val_counts[3:].sum()}) # label the rest to be 'other'\n",
    "        data = pd.concat([top_three, others]) # concat the two series\n",
    "    else:\n",
    "        data = val_counts\n",
    "    \n",
    "    wedges, texts, autotexts = plt.pie(data, autopct='%1.1f%%')\n",
    "    plt.legend(wedges, data.keys(), loc=\"center left\", bbox_to_anchor=(0.5, -0.1))\n",
    "    plt.title('Distribution of ' + col)\n",
    "    axes[i].set_xlabel(col)\n",
    "\n",
    "fig.tight_layout()\n",
    "plt.show()"
   ]
  }
 ],
 "metadata": {
  "kernelspec": {
   "display_name": "base",
   "language": "python",
   "name": "python3"
  },
  "language_info": {
   "name": "python",
   "version": "3.12.4"
  }
 },
 "nbformat": 4,
 "nbformat_minor": 5
}
